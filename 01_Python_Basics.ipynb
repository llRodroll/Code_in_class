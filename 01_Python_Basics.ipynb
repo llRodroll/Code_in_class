{
  "nbformat": 4,
  "nbformat_minor": 0,
  "metadata": {
    "colab": {
      "name": "01-.- Python Basics.ipynb",
      "provenance": [],
      "toc_visible": true,
      "authorship_tag": "ABX9TyPp1aKXneV2SbNC0RX9FZXX",
      "include_colab_link": true
    },
    "kernelspec": {
      "name": "python3",
      "display_name": "Python 3"
    },
    "language_info": {
      "name": "python"
    }
  },
  "cells": [
    {
      "cell_type": "markdown",
      "metadata": {
        "id": "view-in-github",
        "colab_type": "text"
      },
      "source": [
        "<a href=\"https://colab.research.google.com/github/llRodroll/Code_in_class/blob/main/01_Python_Basics.ipynb\" target=\"_parent\"><img src=\"https://colab.research.google.com/assets/colab-badge.svg\" alt=\"Open In Colab\"/></a>"
      ]
    },
    {
      "cell_type": "markdown",
      "source": [
        "# Introduction\n",
        "\n",
        "we are going to start *promming*"
      ],
      "metadata": {
        "id": "Oi9A1tADMOyx"
      }
    },
    {
      "cell_type": "markdown",
      "source": [
        "# **1. What is Python?**\n",
        "\n",
        "It was 1991 and can do anything"
      ],
      "metadata": {
        "id": "PGD2Ugx0MlQ5"
      }
    },
    {
      "cell_type": "markdown",
      "source": [
        "# **2. Why Python?**\n",
        "\n",
        "It is free.\n",
        "It is open source\n",
        "It is easy to learn"
      ],
      "metadata": {
        "id": "TU8uR3QeNdLb"
      }
    },
    {
      "cell_type": "markdown",
      "source": [
        "# **3. Getting Started**"
      ],
      "metadata": {
        "id": "q65oS94YOjR6"
      }
    },
    {
      "cell_type": "markdown",
      "source": [
        "## 3.1 Python as a Calculator \n",
        "\n"
      ],
      "metadata": {
        "id": "dr3RrTv3Os48"
      }
    },
    {
      "cell_type": "code",
      "source": [
        "# Addition\n",
        "2+2"
      ],
      "metadata": {
        "colab": {
          "base_uri": "https://localhost:8080/"
        },
        "id": "P26Ba5qDO6A2",
        "outputId": "02d34c36-212f-4a68-9834-c538fd96b258"
      },
      "execution_count": null,
      "outputs": [
        {
          "output_type": "execute_result",
          "data": {
            "text/plain": [
              "4"
            ]
          },
          "metadata": {},
          "execution_count": 1
        }
      ]
    },
    {
      "cell_type": "code",
      "source": [
        "# Substraction\n",
        "2-2"
      ],
      "metadata": {
        "colab": {
          "base_uri": "https://localhost:8080/"
        },
        "id": "B1BJHbZ3P7wa",
        "outputId": "466298e1-6c8c-4407-aee3-ac6dca46ad62"
      },
      "execution_count": null,
      "outputs": [
        {
          "output_type": "execute_result",
          "data": {
            "text/plain": [
              "0"
            ]
          },
          "metadata": {},
          "execution_count": 2
        }
      ]
    },
    {
      "cell_type": "code",
      "source": [
        "# Multiplication\n",
        "7*14"
      ],
      "metadata": {
        "colab": {
          "base_uri": "https://localhost:8080/"
        },
        "id": "QT-sk02gQLxW",
        "outputId": "2dca3eee-816e-442c-9daf-fab498dbe9b5"
      },
      "execution_count": null,
      "outputs": [
        {
          "output_type": "execute_result",
          "data": {
            "text/plain": [
              "98"
            ]
          },
          "metadata": {},
          "execution_count": 3
        }
      ]
    },
    {
      "cell_type": "code",
      "source": [
        "# Exponential \n",
        "5**3"
      ],
      "metadata": {
        "colab": {
          "base_uri": "https://localhost:8080/"
        },
        "id": "gtpiJItpQdfV",
        "outputId": "c38456e5-8500-4b1f-bdec-c93a7f0b8935"
      },
      "execution_count": null,
      "outputs": [
        {
          "output_type": "execute_result",
          "data": {
            "text/plain": [
              "125"
            ]
          },
          "metadata": {},
          "execution_count": 4
        }
      ]
    },
    {
      "cell_type": "code",
      "source": [
        "# Divison\n",
        "10/3"
      ],
      "metadata": {
        "colab": {
          "base_uri": "https://localhost:8080/"
        },
        "id": "MGeQhYcfQvCS",
        "outputId": "d75a81b4-5047-44df-90e3-c0d70eee510b"
      },
      "execution_count": null,
      "outputs": [
        {
          "output_type": "execute_result",
          "data": {
            "text/plain": [
              "3.3333333333333335"
            ]
          },
          "metadata": {},
          "execution_count": 5
        }
      ]
    },
    {
      "cell_type": "code",
      "source": [
        "# Integer Division\n",
        "10//3"
      ],
      "metadata": {
        "colab": {
          "base_uri": "https://localhost:8080/"
        },
        "id": "wyd05-JaQ7DH",
        "outputId": "891509dc-7c45-4f07-9da9-954289791c16"
      },
      "execution_count": null,
      "outputs": [
        {
          "output_type": "execute_result",
          "data": {
            "text/plain": [
              "3"
            ]
          },
          "metadata": {},
          "execution_count": 6
        }
      ]
    },
    {
      "cell_type": "markdown",
      "source": [
        "## 3.2. Composite Operations\n",
        "\n",
        "*Operator precedence*\n",
        "2*3+7\n",
        "\n",
        "First is * or /, then + or -"
      ],
      "metadata": {
        "id": "frFauXNRMQ8-"
      }
    },
    {
      "cell_type": "code",
      "source": [
        "# Example\n",
        "30-5*4/2+7"
      ],
      "metadata": {
        "colab": {
          "base_uri": "https://localhost:8080/"
        },
        "id": "LWiTq9EUM2hg",
        "outputId": "b7df7f23-e380-4ac4-92d5-b6a135d49358"
      },
      "execution_count": null,
      "outputs": [
        {
          "output_type": "execute_result",
          "data": {
            "text/plain": [
              "27.0"
            ]
          },
          "metadata": {},
          "execution_count": 2
        }
      ]
    },
    {
      "cell_type": "markdown",
      "source": [
        "Parentheses `( )` allows to modify operator precedence.\n",
        "\n"
      ],
      "metadata": {
        "id": "6u5X1ge6Ngqh"
      }
    },
    {
      "cell_type": "code",
      "source": [
        "# Example\n",
        "(30-5)*4/2+7"
      ],
      "metadata": {
        "colab": {
          "base_uri": "https://localhost:8080/"
        },
        "id": "Ckm_0VLEN-B5",
        "outputId": "037b795e-9008-42ca-d262-c7880dbd0668"
      },
      "execution_count": null,
      "outputs": [
        {
          "output_type": "execute_result",
          "data": {
            "text/plain": [
              "57.0"
            ]
          },
          "metadata": {},
          "execution_count": 3
        }
      ]
    },
    {
      "cell_type": "markdown",
      "source": [
        "## 3.3. Integers and Real Numbers\n",
        "\n",
        "| Math | Code |\n",
        "|------|------|\n",
        "| Integers | Integers (int) |\n",
        "| Real     | Float point (float) |"
      ],
      "metadata": {
        "id": "WzBxQ9-iOv6C"
      }
    },
    {
      "cell_type": "markdown",
      "source": [
        "The *function* `type()` let's us check"
      ],
      "metadata": {
        "id": "I0NUeyZ8QUmo"
      }
    },
    {
      "cell_type": "code",
      "source": [
        "type(26.5)"
      ],
      "metadata": {
        "colab": {
          "base_uri": "https://localhost:8080/"
        },
        "id": "LBhrLv0rQwR4",
        "outputId": "c7c06524-c488-4937-8063-a96b5f8e5678"
      },
      "execution_count": null,
      "outputs": [
        {
          "output_type": "execute_result",
          "data": {
            "text/plain": [
              "float"
            ]
          },
          "metadata": {},
          "execution_count": 6
        }
      ]
    },
    {
      "cell_type": "markdown",
      "source": [
        "### **Scientific notation**\n",
        "\n",
        "The \"form\" = `x*10^y` it is written as `xey`\n",
        "\n"
      ],
      "metadata": {
        "id": "3sJHgAwHGxPS"
      }
    },
    {
      "cell_type": "code",
      "source": [
        "# Example\n",
        "1.52e2"
      ],
      "metadata": {
        "colab": {
          "base_uri": "https://localhost:8080/"
        },
        "id": "cA6VF7fhIdci",
        "outputId": "e9a02025-4258-4ff5-f9c5-b904615ef15b"
      },
      "execution_count": null,
      "outputs": [
        {
          "output_type": "execute_result",
          "data": {
            "text/plain": [
              "152.0"
            ]
          },
          "metadata": {},
          "execution_count": 1
        }
      ]
    },
    {
      "cell_type": "markdown",
      "source": [
        "What happen if you to represent `0.25` with scientific notation?"
      ],
      "metadata": {
        "id": "6SfOYjLfI1NK"
      }
    },
    {
      "cell_type": "code",
      "source": [
        "# Answer\n",
        "2.5e-1"
      ],
      "metadata": {
        "colab": {
          "base_uri": "https://localhost:8080/"
        },
        "id": "XkxMEwPGJq6m",
        "outputId": "e8a5468e-7f23-40cd-f9e1-31a012b1ad7d"
      },
      "execution_count": null,
      "outputs": [
        {
          "output_type": "execute_result",
          "data": {
            "text/plain": [
              "0.25"
            ]
          },
          "metadata": {},
          "execution_count": 8
        }
      ]
    },
    {
      "cell_type": "code",
      "source": [
        "# Example 2\n",
        "1.5e^5"
      ],
      "metadata": {
        "colab": {
          "base_uri": "https://localhost:8080/",
          "height": 131
        },
        "id": "p8TQ1MjsLTNM",
        "outputId": "659ad5cd-9fbd-4dd6-d1cc-a6a5653abcaa"
      },
      "execution_count": null,
      "outputs": [
        {
          "output_type": "error",
          "ename": "SyntaxError",
          "evalue": "ignored",
          "traceback": [
            "\u001b[0;36m  File \u001b[0;32m\"<ipython-input-13-0120d9a84d43>\"\u001b[0;36m, line \u001b[0;32m2\u001b[0m\n\u001b[0;31m    1.5e^5\u001b[0m\n\u001b[0m       ^\u001b[0m\n\u001b[0;31mSyntaxError\u001b[0m\u001b[0;31m:\u001b[0m invalid syntax\n"
          ]
        }
      ]
    },
    {
      "cell_type": "markdown",
      "source": [
        "### **Transformation**\n",
        "\n"
      ],
      "metadata": {
        "id": "SW6Bzv8hM7lS"
      }
    },
    {
      "cell_type": "code",
      "source": [
        "# Example int to float\n",
        "float(5)"
      ],
      "metadata": {
        "colab": {
          "base_uri": "https://localhost:8080/"
        },
        "id": "rxMMl995NLBB",
        "outputId": "cf00e0bf-332a-42f2-e7be-1e2f428149a4"
      },
      "execution_count": null,
      "outputs": [
        {
          "output_type": "execute_result",
          "data": {
            "text/plain": [
              "5.0"
            ]
          },
          "metadata": {},
          "execution_count": 14
        }
      ]
    },
    {
      "cell_type": "code",
      "source": [
        "# Example float to int\n",
        "int(7.25)"
      ],
      "metadata": {
        "colab": {
          "base_uri": "https://localhost:8080/"
        },
        "id": "sIcWcZ1ENYQq",
        "outputId": "07c80555-b26b-4d7d-d084-e57b888fcb5c"
      },
      "execution_count": null,
      "outputs": [
        {
          "output_type": "execute_result",
          "data": {
            "text/plain": [
              "7"
            ]
          },
          "metadata": {},
          "execution_count": 15
        }
      ]
    },
    {
      "cell_type": "markdown",
      "source": [
        "## 3.4. Basic functions\n",
        "\n"
      ],
      "metadata": {
        "id": "bj0PeldINuxc"
      }
    },
    {
      "cell_type": "markdown",
      "source": [
        "### **Print**\n",
        "\n"
      ],
      "metadata": {
        "id": "v3kUjdBeOKmu"
      }
    },
    {
      "cell_type": "code",
      "source": [
        "# Number Example\n",
        "print(2022,8,11)"
      ],
      "metadata": {
        "colab": {
          "base_uri": "https://localhost:8080/"
        },
        "id": "8b4bdAMCOhRN",
        "outputId": "ab6908b0-a6d2-47d5-c2b6-7acb22610029"
      },
      "execution_count": null,
      "outputs": [
        {
          "output_type": "stream",
          "name": "stdout",
          "text": [
            "2022 8 11\n"
          ]
        }
      ]
    },
    {
      "cell_type": "code",
      "source": [
        "# String (alphabet) Example\n",
        "print('Rodrigo')"
      ],
      "metadata": {
        "colab": {
          "base_uri": "https://localhost:8080/"
        },
        "id": "f0wyRFHiPK8D",
        "outputId": "be72c63e-803f-4d89-859a-cae4536bc3eb"
      },
      "execution_count": null,
      "outputs": [
        {
          "output_type": "stream",
          "name": "stdout",
          "text": [
            "Rodrigo\n"
          ]
        }
      ]
    },
    {
      "cell_type": "code",
      "source": [
        "# More complicated string examples\n",
        "print('First Name: Rodrigo','Last Name: Vélez')\n",
        "print('First Name: Rodrigo\\tLast Name: Vélez')\n",
        "print('First Name: Rodrigo\\nLast Name: Vélez')"
      ],
      "metadata": {
        "colab": {
          "base_uri": "https://localhost:8080/"
        },
        "id": "d_1j5gZ2QIJy",
        "outputId": "8826a89d-9321-4db1-fc5e-67a4b7999868"
      },
      "execution_count": null,
      "outputs": [
        {
          "output_type": "stream",
          "name": "stdout",
          "text": [
            "First Name: Rodrigo Last Name: Vélez\n",
            "First Name: Rodrigo\tLast Name: Vélez\n",
            "First Name: Rodrigo\n",
            "Last Name: Vélez\n"
          ]
        }
      ]
    },
    {
      "cell_type": "code",
      "source": [
        "# More complicated string examples\n",
        "print('First Name:','Rodrigo','Last Name:', 'Vélez')"
      ],
      "metadata": {
        "colab": {
          "base_uri": "https://localhost:8080/"
        },
        "id": "clqjTr3eRL4W",
        "outputId": "6f5a6198-9d38-476e-f2df-1c4aa4ed3063"
      },
      "execution_count": null,
      "outputs": [
        {
          "output_type": "stream",
          "name": "stdout",
          "text": [
            "First Name: Rodrigo Last Name: Vélez\n"
          ]
        }
      ]
    },
    {
      "cell_type": "code",
      "source": [
        "# More complicated number example\n",
        "for i in range(0,10): print(i)"
      ],
      "metadata": {
        "colab": {
          "base_uri": "https://localhost:8080/"
        },
        "id": "8L_TVthLSEqc",
        "outputId": "598017f4-f860-4ba3-82b2-783350362d1e"
      },
      "execution_count": null,
      "outputs": [
        {
          "output_type": "stream",
          "name": "stdout",
          "text": [
            "0\n",
            "1\n",
            "2\n",
            "3\n",
            "4\n",
            "5\n",
            "6\n",
            "7\n",
            "8\n",
            "9\n"
          ]
        }
      ]
    },
    {
      "cell_type": "code",
      "source": [
        "# Combine string and numbers\n",
        "print('My favorite number is:',21, 'because aja')"
      ],
      "metadata": {
        "colab": {
          "base_uri": "https://localhost:8080/"
        },
        "id": "eGuGvZ_RTKDK",
        "outputId": "6fdd0bfd-0bca-4c87-eb54-d812456cbb9d"
      },
      "execution_count": null,
      "outputs": [
        {
          "output_type": "stream",
          "name": "stdout",
          "text": [
            "My favorite number is: 21 because aja\n"
          ]
        }
      ]
    },
    {
      "cell_type": "markdown",
      "source": [
        "### **Round**"
      ],
      "metadata": {
        "id": "HzQqRQTEThKK"
      }
    },
    {
      "cell_type": "code",
      "source": [
        "# A simple example\n",
        "round(1.253,2)"
      ],
      "metadata": {
        "colab": {
          "base_uri": "https://localhost:8080/"
        },
        "id": "75KijF48TjzZ",
        "outputId": "67e05069-d7aa-4a45-b183-4bbfb61f431e"
      },
      "execution_count": null,
      "outputs": [
        {
          "output_type": "execute_result",
          "data": {
            "text/plain": [
              "1.25"
            ]
          },
          "metadata": {},
          "execution_count": 30
        }
      ]
    },
    {
      "cell_type": "code",
      "source": [
        "# Time to practice\n",
        "# Consider the number 7.2345\n",
        "# Print every result for rounding from 3 to 0 positions\n",
        "\n",
        "print('Round with', 0, 'decimals:', round(7.2345,0))\n",
        "print('Round with', 1, 'decimals:', round(7.2345,1))\n",
        "print('Round with', 2, 'decimals:', round(7.2345,2))\n",
        "print('Round with', 3, 'decimals:', round(7.2345,3))"
      ],
      "metadata": {
        "colab": {
          "base_uri": "https://localhost:8080/"
        },
        "id": "wU-hEwnCUGnp",
        "outputId": "8f8e4a35-a6aa-49ae-dee3-0f07ea03fa10"
      },
      "execution_count": null,
      "outputs": [
        {
          "output_type": "stream",
          "name": "stdout",
          "text": [
            "Round with 0 decimals: 7.0\n",
            "Round with 1 decimals: 7.2\n",
            "Round with 2 decimals: 7.23\n",
            "Round with 3 decimals: 7.234\n"
          ]
        }
      ]
    },
    {
      "cell_type": "code",
      "source": [
        "# If we for loops\n",
        "for i in range(0,4): print('Round with', i, 'decimals:', round(7.2345,i))\n"
      ],
      "metadata": {
        "colab": {
          "base_uri": "https://localhost:8080/"
        },
        "id": "5rmwArCxYo1T",
        "outputId": "9ad7c746-aece-4f1f-9899-f95d1f2596bf"
      },
      "execution_count": null,
      "outputs": [
        {
          "output_type": "stream",
          "name": "stdout",
          "text": [
            "Round with 0 decimals: 7.0\n",
            "Round with 1 decimals: 7.2\n",
            "Round with 2 decimals: 7.23\n",
            "Round with 3 decimals: 7.234\n"
          ]
        }
      ]
    },
    {
      "cell_type": "code",
      "source": [
        "# Practice\n",
        "# Print the first 100 multiples of the number 2.\n",
        "\n",
        "print('This is the list of the 100th Multiples of 2:')\n",
        "for i in range(1,101): print('Position:', i, 'Multiple:',2*i)"
      ],
      "metadata": {
        "id": "1PqBGcx_ZZVZ",
        "colab": {
          "base_uri": "https://localhost:8080/"
        },
        "outputId": "495d58f7-af3f-4554-f5d0-6e0ea4fa17d2"
      },
      "execution_count": 1,
      "outputs": [
        {
          "output_type": "stream",
          "name": "stdout",
          "text": [
            "This is the list of the 100th Multiples of 2:\n",
            "Position: 1 Multiple: 2\n",
            "Position: 2 Multiple: 4\n",
            "Position: 3 Multiple: 6\n",
            "Position: 4 Multiple: 8\n",
            "Position: 5 Multiple: 10\n",
            "Position: 6 Multiple: 12\n",
            "Position: 7 Multiple: 14\n",
            "Position: 8 Multiple: 16\n",
            "Position: 9 Multiple: 18\n",
            "Position: 10 Multiple: 20\n",
            "Position: 11 Multiple: 22\n",
            "Position: 12 Multiple: 24\n",
            "Position: 13 Multiple: 26\n",
            "Position: 14 Multiple: 28\n",
            "Position: 15 Multiple: 30\n",
            "Position: 16 Multiple: 32\n",
            "Position: 17 Multiple: 34\n",
            "Position: 18 Multiple: 36\n",
            "Position: 19 Multiple: 38\n",
            "Position: 20 Multiple: 40\n",
            "Position: 21 Multiple: 42\n",
            "Position: 22 Multiple: 44\n",
            "Position: 23 Multiple: 46\n",
            "Position: 24 Multiple: 48\n",
            "Position: 25 Multiple: 50\n",
            "Position: 26 Multiple: 52\n",
            "Position: 27 Multiple: 54\n",
            "Position: 28 Multiple: 56\n",
            "Position: 29 Multiple: 58\n",
            "Position: 30 Multiple: 60\n",
            "Position: 31 Multiple: 62\n",
            "Position: 32 Multiple: 64\n",
            "Position: 33 Multiple: 66\n",
            "Position: 34 Multiple: 68\n",
            "Position: 35 Multiple: 70\n",
            "Position: 36 Multiple: 72\n",
            "Position: 37 Multiple: 74\n",
            "Position: 38 Multiple: 76\n",
            "Position: 39 Multiple: 78\n",
            "Position: 40 Multiple: 80\n",
            "Position: 41 Multiple: 82\n",
            "Position: 42 Multiple: 84\n",
            "Position: 43 Multiple: 86\n",
            "Position: 44 Multiple: 88\n",
            "Position: 45 Multiple: 90\n",
            "Position: 46 Multiple: 92\n",
            "Position: 47 Multiple: 94\n",
            "Position: 48 Multiple: 96\n",
            "Position: 49 Multiple: 98\n",
            "Position: 50 Multiple: 100\n",
            "Position: 51 Multiple: 102\n",
            "Position: 52 Multiple: 104\n",
            "Position: 53 Multiple: 106\n",
            "Position: 54 Multiple: 108\n",
            "Position: 55 Multiple: 110\n",
            "Position: 56 Multiple: 112\n",
            "Position: 57 Multiple: 114\n",
            "Position: 58 Multiple: 116\n",
            "Position: 59 Multiple: 118\n",
            "Position: 60 Multiple: 120\n",
            "Position: 61 Multiple: 122\n",
            "Position: 62 Multiple: 124\n",
            "Position: 63 Multiple: 126\n",
            "Position: 64 Multiple: 128\n",
            "Position: 65 Multiple: 130\n",
            "Position: 66 Multiple: 132\n",
            "Position: 67 Multiple: 134\n",
            "Position: 68 Multiple: 136\n",
            "Position: 69 Multiple: 138\n",
            "Position: 70 Multiple: 140\n",
            "Position: 71 Multiple: 142\n",
            "Position: 72 Multiple: 144\n",
            "Position: 73 Multiple: 146\n",
            "Position: 74 Multiple: 148\n",
            "Position: 75 Multiple: 150\n",
            "Position: 76 Multiple: 152\n",
            "Position: 77 Multiple: 154\n",
            "Position: 78 Multiple: 156\n",
            "Position: 79 Multiple: 158\n",
            "Position: 80 Multiple: 160\n",
            "Position: 81 Multiple: 162\n",
            "Position: 82 Multiple: 164\n",
            "Position: 83 Multiple: 166\n",
            "Position: 84 Multiple: 168\n",
            "Position: 85 Multiple: 170\n",
            "Position: 86 Multiple: 172\n",
            "Position: 87 Multiple: 174\n",
            "Position: 88 Multiple: 176\n",
            "Position: 89 Multiple: 178\n",
            "Position: 90 Multiple: 180\n",
            "Position: 91 Multiple: 182\n",
            "Position: 92 Multiple: 184\n",
            "Position: 93 Multiple: 186\n",
            "Position: 94 Multiple: 188\n",
            "Position: 95 Multiple: 190\n",
            "Position: 96 Multiple: 192\n",
            "Position: 97 Multiple: 194\n",
            "Position: 98 Multiple: 196\n",
            "Position: 99 Multiple: 198\n",
            "Position: 100 Multiple: 200\n"
          ]
        }
      ]
    },
    {
      "cell_type": "markdown",
      "source": [
        "### Absoulte Value"
      ],
      "metadata": {
        "id": "CX3rd0bTN3lQ"
      }
    },
    {
      "cell_type": "code",
      "source": [
        "# Example\n",
        "abs(-25)"
      ],
      "metadata": {
        "colab": {
          "base_uri": "https://localhost:8080/"
        },
        "id": "tM580lIwN9Po",
        "outputId": "2163b9de-5212-488e-935f-b35aa33babc3"
      },
      "execution_count": 2,
      "outputs": [
        {
          "output_type": "execute_result",
          "data": {
            "text/plain": [
              "25"
            ]
          },
          "metadata": {},
          "execution_count": 2
        }
      ]
    }
  ]
}