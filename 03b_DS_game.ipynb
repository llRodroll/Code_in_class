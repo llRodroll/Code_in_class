{
  "nbformat": 4,
  "nbformat_minor": 0,
  "metadata": {
    "colab": {
      "provenance": [],
      "authorship_tag": "ABX9TyPF4m1ofEOGUy/ges6pwZXn",
      "include_colab_link": true
    },
    "kernelspec": {
      "name": "python3",
      "display_name": "Python 3"
    },
    "language_info": {
      "name": "python"
    }
  },
  "cells": [
    {
      "cell_type": "markdown",
      "metadata": {
        "id": "view-in-github",
        "colab_type": "text"
      },
      "source": [
        "<a href=\"https://colab.research.google.com/github/llRodroll/Code_in_class/blob/main/03b_DS_game.ipynb\" target=\"_parent\"><img src=\"https://colab.research.google.com/assets/colab-badge.svg\" alt=\"Open In Colab\"/></a>"
      ]
    },
    {
      "cell_type": "markdown",
      "source": [
        "## Exercise 1\n",
        "\n",
        "**Roulette!**\n",
        "\n",
        "Let's simulate a casino game.\n",
        "Specifically, a single-zero (french) roulette.\n",
        "\n",
        "This game consists on rolling a ball over a wheel with number pockets.\n",
        "\n",
        "[Game](https://image.shutterstock.com/image-illustration/casino-roulette-wheel-chips-on-600w-1288790665.jpg)\n",
        "\n",
        "To keep it simple, you can bet on a number and bet on a color.\n",
        "\n",
        "Create the corresponding code to simulate a round. You must show what was your bet (number and color) and the actual result.\n",
        "\n",
        "*Tip*\n",
        "\n",
        "To determine if a number (in `int` format) is even or odd, you can use:"
      ],
      "metadata": {
        "id": "Wy5nGo0misag"
      }
    },
    {
      "cell_type": "code",
      "execution_count": null,
      "metadata": {
        "id": "BSn8IT5VilEv"
      },
      "outputs": [],
      "source": [
        "number = 24 # example\n",
        "\n",
        "'Even' if (number % 2) == 0 else 'Odd'"
      ]
    },
    {
      "cell_type": "code",
      "source": [
        "import numpy as np"
      ],
      "metadata": {
        "id": "v3SR33hdi5st"
      },
      "execution_count": null,
      "outputs": []
    },
    {
      "cell_type": "markdown",
      "source": [
        "# One part of the solution - Number\n",
        "\n",
        "Simulating only the draw of a number"
      ],
      "metadata": {
        "id": "1tGUZJG6i8g1"
      }
    },
    {
      "cell_type": "code",
      "source": [
        "number = np.random.randint(low = 0, high = 37)\n",
        "\n",
        "apuesta = 34\n",
        "print('Resultado:', number)\n",
        "print('Mi apuesta:', apuesta)\n",
        "\n",
        "if number == apuesta: \n",
        "  print('You win')\n",
        "else: \n",
        "  print('You lose')\n",
        "\n"
      ],
      "metadata": {
        "colab": {
          "base_uri": "https://localhost:8080/"
        },
        "id": "WGRhMclGi7s8",
        "outputId": "419f39e5-d860-4bb9-bde9-067dd1123384"
      },
      "execution_count": null,
      "outputs": [
        {
          "output_type": "stream",
          "name": "stdout",
          "text": [
            "Resultado: 7\n",
            "Mi apuesta: 34\n",
            "You lose\n"
          ]
        }
      ]
    },
    {
      "cell_type": "markdown",
      "source": [
        "Simplifying the `if` expression."
      ],
      "metadata": {
        "id": "Oz45YyI_QbmP"
      }
    },
    {
      "cell_type": "code",
      "source": [
        "result_number = np.random.randint(low = 0, high = 37)\n",
        "my_bet = 34\n",
        "\n",
        "print('The number drawn was:', result_number)\n",
        "print('My bet:', my_bet)\n",
        "\n",
        "'You win' if (result_number == my_bet) else 'You lose'"
      ],
      "metadata": {
        "colab": {
          "base_uri": "https://localhost:8080/",
          "height": 70
        },
        "id": "S7RwG-vmk6NX",
        "outputId": "cbac43f4-082c-4645-952c-209127d8bd2b"
      },
      "execution_count": null,
      "outputs": [
        {
          "output_type": "stream",
          "name": "stdout",
          "text": [
            "The number drawn was: 10\n",
            "My bet: 34\n"
          ]
        },
        {
          "output_type": "execute_result",
          "data": {
            "text/plain": [
              "'You lose'"
            ],
            "application/vnd.google.colaboratory.intrinsic+json": {
              "type": "string"
            }
          },
          "metadata": {},
          "execution_count": 20
        }
      ]
    },
    {
      "cell_type": "markdown",
      "source": [
        "# One part of the solution - Color\n",
        "\n",
        "Simulating that every **even** is black and every **odd** is red."
      ],
      "metadata": {
        "id": "VDHtyJtvQmda"
      }
    },
    {
      "cell_type": "code",
      "source": [
        "result_number = np.random.randint (low = 1, high = 37)\n",
        "'Black' if (result_number % 2) == 0 else 'Red'\n",
        "\n"
      ],
      "metadata": {
        "colab": {
          "base_uri": "https://localhost:8080/",
          "height": 35
        },
        "id": "QsjdpUU2qBIr",
        "outputId": "9fd10c2b-393f-4a2d-d662-a9a117042980"
      },
      "execution_count": null,
      "outputs": [
        {
          "output_type": "execute_result",
          "data": {
            "text/plain": [
              "'Black'"
            ],
            "application/vnd.google.colaboratory.intrinsic+json": {
              "type": "string"
            }
          },
          "metadata": {},
          "execution_count": 33
        }
      ]
    },
    {
      "cell_type": "markdown",
      "source": [
        "# Solution 1 - Hard coding\n",
        "\n",
        "Because the result set is fixed, never change, and is small we can *hard code* it. It makes a lot of thing easier.\n",
        "\n",
        "Meaning you have to invest time in building the set but once it is done the rest is easy. Mainly because you only have to build it once."
      ],
      "metadata": {
        "id": "xId0cNHPRm0R"
      }
    },
    {
      "cell_type": "code",
      "source": [
        "#########\n",
        "# BOARD #\n",
        "#########\n",
        "\n",
        "black = np.array([2,4,6,8,10,11,13,15,17,20,22,24,26,28,29,31,33,35])\n",
        "red   = np.array([1,3,5,7,9,12,14,16,18,19,21,23,25,27,30,32,34,36])\n",
        "\n",
        "# The bet\n",
        "## Must be 'black', 'red' or ''\n",
        "color_bet  = ''  \n",
        "## Must be an integer from 0 to 36\n",
        "number_bet = 15\n",
        "\n",
        "# The draw\n",
        "## Generating the random number\n",
        "number = np.random.randint(low = 0, high = 37)\n",
        "\n",
        "## Checking the color\n",
        "if number == 0:\n",
        "  color = 'neutral'\n",
        "elif number in black:\n",
        "  color = 'black'\n",
        "else:\n",
        "  color = 'red'\n",
        "\n",
        "# The results\n",
        "## Number result\n",
        "print('Results for your number bet:')\n",
        "print('Your bet:', number_bet, 'Number drawn:', number)\n",
        "if (number_bet == number): \n",
        "  print('You win') \n",
        "else: \n",
        "  print('You lose')\n",
        "  \n",
        "\n",
        "## Color result\n",
        "print('Results for your color bet:')\n",
        "if color_bet == '':\n",
        "  print('No bet was made')\n",
        "else:\n",
        "  print('Your color:', color_bet, 'Color drawn:', color)\n",
        "  if (color_bet == color): \n",
        "    print('You win') \n",
        "  else: \n",
        "    print('You lose')"
      ],
      "metadata": {
        "id": "HW8jkj1JR_UH",
        "colab": {
          "base_uri": "https://localhost:8080/"
        },
        "outputId": "4e08a66a-fc0d-45c8-c19c-4606915b9660"
      },
      "execution_count": null,
      "outputs": [
        {
          "output_type": "stream",
          "name": "stdout",
          "text": [
            "Results for your number bet:\n",
            "Your bet: 15 Number drawn: 33\n",
            "You lose\n",
            "Results for your color bet:\n",
            "No bet was made\n"
          ]
        }
      ]
    }
  ]
}