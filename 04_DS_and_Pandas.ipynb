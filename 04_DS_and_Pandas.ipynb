{
  "nbformat": 4,
  "nbformat_minor": 0,
  "metadata": {
    "colab": {
      "provenance": [],
      "collapsed_sections": [],
      "authorship_tag": "ABX9TyO92iQ2V26nuAQ0WaJSc1qE",
      "include_colab_link": true
    },
    "kernelspec": {
      "name": "python3",
      "display_name": "Python 3"
    },
    "language_info": {
      "name": "python"
    }
  },
  "cells": [
    {
      "cell_type": "markdown",
      "metadata": {
        "id": "view-in-github",
        "colab_type": "text"
      },
      "source": [
        "<a href=\"https://colab.research.google.com/github/llRodroll/Code_in_class/blob/main/04_DS_and_Pandas.ipynb\" target=\"_parent\"><img src=\"https://colab.research.google.com/assets/colab-badge.svg\" alt=\"Open In Colab\"/></a>"
      ]
    },
    {
      "cell_type": "markdown",
      "source": [
        "# **1. Data Structure and Pandas**\n",
        "\n",
        "`numpy` is for vector and matrices (`arrays`).\n",
        "\n",
        "`pandas` is a library to work with databases (data with relations and conextions). In practical terms, `pandas` is the Excel of Python.\n",
        "\n",
        "To make clear you can work with `numpy` and `pandas` at the same time."
      ],
      "metadata": {
        "id": "0N3EPcWYk2ju"
      }
    },
    {
      "cell_type": "code",
      "execution_count": 1,
      "metadata": {
        "id": "NjTeORbekfSg"
      },
      "outputs": [],
      "source": [
        "import pandas as pd\n",
        "import numpy as np"
      ]
    },
    {
      "cell_type": "markdown",
      "source": [
        "# **2. Pandas Series**\n",
        "\n",
        "A Series (in pandas) is a one-dimensional object."
      ],
      "metadata": {
        "id": "4EsCbk9Gmjgj"
      }
    },
    {
      "cell_type": "markdown",
      "source": [
        "## 2.1. Series creation"
      ],
      "metadata": {
        "id": "1zROtGmom9Qz"
      }
    },
    {
      "cell_type": "code",
      "source": [
        "# Empty series\n",
        "\n",
        "s_empty = pd.Series()\n",
        "print(s_empty)\n"
      ],
      "metadata": {
        "colab": {
          "base_uri": "https://localhost:8080/"
        },
        "id": "iu1qAR7VnCpT",
        "outputId": "3087ab63-9c0f-45f0-b320-0b448b0d36af"
      },
      "execution_count": 2,
      "outputs": [
        {
          "output_type": "stream",
          "name": "stdout",
          "text": [
            "Series([], dtype: float64)\n"
          ]
        },
        {
          "output_type": "stream",
          "name": "stderr",
          "text": [
            "/usr/local/lib/python3.7/dist-packages/ipykernel_launcher.py:3: DeprecationWarning: The default dtype for empty Series will be 'object' instead of 'float64' in a future version. Specify a dtype explicitly to silence this warning.\n",
            "  This is separate from the ipykernel package so we can avoid doing imports until\n"
          ]
        }
      ]
    },
    {
      "cell_type": "code",
      "source": [
        "# Creating a Series - typing the values\n",
        "## int values\n",
        "\n",
        "s_int = pd.Series([1,2,3,4,5,6,7])\n",
        "print(s_int)"
      ],
      "metadata": {
        "colab": {
          "base_uri": "https://localhost:8080/"
        },
        "id": "KaTEF2GzoGmu",
        "outputId": "64852a1a-e8c6-41c9-8da3-8fecff48f34b"
      },
      "execution_count": 4,
      "outputs": [
        {
          "output_type": "stream",
          "name": "stdout",
          "text": [
            "0    1\n",
            "1    2\n",
            "2    3\n",
            "3    4\n",
            "4    5\n",
            "5    6\n",
            "6    7\n",
            "dtype: int64\n"
          ]
        }
      ]
    },
    {
      "cell_type": "code",
      "source": [
        "# Creating a Series - using random numbers\n",
        "## float values\n",
        "\n",
        "s_num = pd.Series(np.random.rand(8))\n",
        "print(s_num)"
      ],
      "metadata": {
        "colab": {
          "base_uri": "https://localhost:8080/"
        },
        "id": "cO2iuWt6ozc5",
        "outputId": "e7e6067c-2a56-4c4e-e9c5-2bba08c57dcc"
      },
      "execution_count": 5,
      "outputs": [
        {
          "output_type": "stream",
          "name": "stdout",
          "text": [
            "0    0.526498\n",
            "1    0.207269\n",
            "2    0.408478\n",
            "3    0.294975\n",
            "4    0.779770\n",
            "5    0.200731\n",
            "6    0.157128\n",
            "7    0.691580\n",
            "dtype: float64\n"
          ]
        }
      ]
    }
  ]
}