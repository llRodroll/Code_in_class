{
  "nbformat": 4,
  "nbformat_minor": 0,
  "metadata": {
    "colab": {
      "provenance": [],
      "collapsed_sections": [],
      "authorship_tag": "ABX9TyP7LZ7EvTBb6HXXpTlF3soS",
      "include_colab_link": true
    },
    "kernelspec": {
      "name": "python3",
      "display_name": "Python 3"
    },
    "language_info": {
      "name": "python"
    }
  },
  "cells": [
    {
      "cell_type": "markdown",
      "metadata": {
        "id": "view-in-github",
        "colab_type": "text"
      },
      "source": [
        "<a href=\"https://colab.research.google.com/github/llRodroll/Code_in_class/blob/main/Final_Delivery.ipynb\" target=\"_parent\"><img src=\"https://colab.research.google.com/assets/colab-badge.svg\" alt=\"Open In Colab\"/></a>"
      ]
    },
    {
      "cell_type": "markdown",
      "source": [
        "# **FINAL EXAM**\n",
        "\n",
        "## **Information**\n",
        "Name:\n",
        "\n",
        "Code:\n",
        "\n",
        "ID:\n",
        "\n",
        "## 1. Dataset (1 pts)\n",
        "* What is the variable?\n",
        "  * Units. Individuals. Period.\n",
        "* What is source?\n",
        "  * With link or URL\n",
        "\n",
        "## 2. Data Visualization (2.5 pts)\n",
        "Rules:\n",
        "* If you deliver exact the same as in class, your grade would be the minimum.\n",
        "* If  you deliver some improvement to the code of 8-Nov-22, your grade would be higher.\n",
        "\n",
        "## 3. What is main take-away of DV? (1.5 pts)\n",
        "* Two lines at max.\n",
        "\n",
        "# **TO DELIVER**\n",
        "* Send via email, el archivo `.ipynb` + dataset in Excel format.\n",
        "* Send the link the corresponding GitHub repository.\n",
        "* Due date: November 23rd of 2022. 11am.\n",
        "* Any email delivered after 11am would not be consider.\n",
        "\n",
        "\n"
      ],
      "metadata": {
        "id": "1MvtzmkjxwB9"
      }
    }
  ]
}