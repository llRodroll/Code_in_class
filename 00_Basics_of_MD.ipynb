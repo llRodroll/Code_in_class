{
  "nbformat": 4,
  "nbformat_minor": 0,
  "metadata": {
    "colab": {
      "name": "00-.- Basics of MD.ipynb",
      "provenance": [],
      "toc_visible": true,
      "authorship_tag": "ABX9TyPTefwA4vSRKA8rGwuLbC5X",
      "include_colab_link": true
    },
    "kernelspec": {
      "name": "python3",
      "display_name": "Python 3"
    },
    "language_info": {
      "name": "python"
    }
  },
  "cells": [
    {
      "cell_type": "markdown",
      "metadata": {
        "id": "view-in-github",
        "colab_type": "text"
      },
      "source": [
        "<a href=\"https://colab.research.google.com/github/llRodroll/Code_in_class/blob/main/00_Basics_of_MD.ipynb\" target=\"_parent\"><img src=\"https://colab.research.google.com/assets/colab-badge.svg\" alt=\"Open In Colab\"/></a>"
      ]
    },
    {
      "cell_type": "markdown",
      "source": [
        "# Heading level 1"
      ],
      "metadata": {
        "id": "5raqnkrvVK21"
      }
    },
    {
      "cell_type": "markdown",
      "source": [
        "## Head level 2"
      ],
      "metadata": {
        "id": "h8ANvNC4XQJM"
      }
    },
    {
      "cell_type": "markdown",
      "source": [
        "lkdhakdhq qkehjqke qkjwherk"
      ],
      "metadata": {
        "id": "htpHEh4EXeLg"
      }
    },
    {
      "cell_type": "code",
      "execution_count": null,
      "metadata": {
        "id": "2TFsQtaGRPf4"
      },
      "outputs": [],
      "source": [
        ""
      ]
    }
  ]
}