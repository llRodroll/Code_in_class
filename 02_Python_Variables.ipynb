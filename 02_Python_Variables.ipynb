{
  "nbformat": 4,
  "nbformat_minor": 0,
  "metadata": {
    "colab": {
      "name": "02-.- Python Variables.ipynb",
      "provenance": [],
      "authorship_tag": "ABX9TyNQkN3qaG5bwoiI1iWd9+jy",
      "include_colab_link": true
    },
    "kernelspec": {
      "name": "python3",
      "display_name": "Python 3"
    },
    "language_info": {
      "name": "python"
    }
  },
  "cells": [
    {
      "cell_type": "markdown",
      "metadata": {
        "id": "view-in-github",
        "colab_type": "text"
      },
      "source": [
        "<a href=\"https://colab.research.google.com/github/llRodroll/Code_in_class/blob/main/02_Python_Variables.ipynb\" target=\"_parent\"><img src=\"https://colab.research.google.com/assets/colab-badge.svg\" alt=\"Open In Colab\"/></a>"
      ]
    },
    {
      "cell_type": "markdown",
      "source": [
        "#1. What is a Variable?\n",
        "\n",
        "*Container*, **stores** values"
      ],
      "metadata": {
        "id": "AFe8DOq5OzP4"
      }
    },
    {
      "cell_type": "markdown",
      "source": [
        "# 2. Declaration and Assigment\n",
        "\n"
      ],
      "metadata": {
        "id": "O3yOjOoNPQsv"
      }
    },
    {
      "cell_type": "code",
      "execution_count": null,
      "metadata": {
        "id": "L1Lc7yuuOnCS"
      },
      "outputs": [],
      "source": [
        "# Example\n",
        "\n",
        "a = 4"
      ]
    },
    {
      "cell_type": "code",
      "source": [
        "# Example using variable\n",
        "print(a + 1)"
      ],
      "metadata": {
        "colab": {
          "base_uri": "https://localhost:8080/"
        },
        "id": "Zax2Ts36QZTA",
        "outputId": "807d622d-c669-4dda-ae94-f01ec373a3ae"
      },
      "execution_count": null,
      "outputs": [
        {
          "output_type": "stream",
          "name": "stdout",
          "text": [
            "5\n"
          ]
        }
      ]
    },
    {
      "cell_type": "code",
      "source": [
        "# Example\n",
        "x = y = z = 100\n",
        "print(x,y,z)"
      ],
      "metadata": {
        "colab": {
          "base_uri": "https://localhost:8080/"
        },
        "id": "sfTN8fDDQ0w8",
        "outputId": "2ed1455e-cc17-4fa4-f870-92f889e4cba3"
      },
      "execution_count": null,
      "outputs": [
        {
          "output_type": "stream",
          "name": "stdout",
          "text": [
            "100 100 100\n"
          ]
        }
      ]
    },
    {
      "cell_type": "markdown",
      "source": [
        "# 3. Delete and Clear"
      ],
      "metadata": {
        "id": "L_LQgh2BRUgL"
      }
    },
    {
      "cell_type": "code",
      "source": [
        "# Example - deleting a single variable\n",
        "age = 21\n",
        "del age"
      ],
      "metadata": {
        "id": "sLNKGQuJRwPv"
      },
      "execution_count": null,
      "outputs": []
    },
    {
      "cell_type": "code",
      "source": [
        "# Example - deleting a list of variables\n",
        "del a,at"
      ],
      "metadata": {
        "id": "VO5drdYXSNAY"
      },
      "execution_count": null,
      "outputs": []
    },
    {
      "cell_type": "code",
      "source": [
        "# Example - erase or clear all variables\n",
        "%reset"
      ],
      "metadata": {
        "colab": {
          "base_uri": "https://localhost:8080/"
        },
        "id": "KieS22YFSkyP",
        "outputId": "24737e35-14ad-4712-d16d-b2698798f81b"
      },
      "execution_count": null,
      "outputs": [
        {
          "name": "stdout",
          "output_type": "stream",
          "text": [
            "Once deleted, variables cannot be recovered. Proceed (y/[n])? y\n"
          ]
        }
      ]
    },
    {
      "cell_type": "code",
      "source": [
        "# Loops with variables\n",
        "x = 5.123684\n",
        "for i in range(0,4): print('Round with', i, 'decimals:', round(x,i))\n"
      ],
      "metadata": {
        "colab": {
          "base_uri": "https://localhost:8080/"
        },
        "id": "BCwUbqvWTy72",
        "outputId": "4a4848d0-0b77-484a-b603-eca5378dedce"
      },
      "execution_count": null,
      "outputs": [
        {
          "output_type": "stream",
          "name": "stdout",
          "text": [
            "Round with 0 decimals: 5.0\n",
            "Round with 1 decimals: 5.1\n",
            "Round with 2 decimals: 5.12\n",
            "Round with 3 decimals: 5.124\n"
          ]
        }
      ]
    },
    {
      "cell_type": "code",
      "source": [
        "# Loops with variables - #2.\n",
        "\n",
        "y = 15\n",
        "print('This is the list of the 100th Multiples of', y,':')\n",
        "for i in range(1,101): print('Position:', i, 'Multiple:',y*i)"
      ],
      "metadata": {
        "id": "WWU_QL20UdPL"
      },
      "execution_count": null,
      "outputs": []
    },
    {
      "cell_type": "markdown",
      "source": [
        "# 4. Naming\n"
      ],
      "metadata": {
        "id": "dJtAWgPVJDUL"
      }
    },
    {
      "cell_type": "markdown",
      "source": [
        "## 4.1. Conditions and Restrictions\n",
        "\n",
        "The names must have only alphanumeric characters (from `0 to 1`, `a to z`, `A to Z`) and underscore `_`.\n",
        "\n",
        "**WARNING** A variable name MUST noy begin with a number."
      ],
      "metadata": {
        "id": "dIsnijNzJRPv"
      }
    },
    {
      "cell_type": "code",
      "source": [
        "# Example\n",
        "my_age = 100\n",
        "person1 = 'me'\n"
      ],
      "metadata": {
        "id": "V2QVaCOfJ-Ws"
      },
      "execution_count": 5,
      "outputs": []
    },
    {
      "cell_type": "markdown",
      "source": [
        "## 4.2. Best Practices\n",
        "\n",
        "* Variables are case sentitive:"
      ],
      "metadata": {
        "id": "OeC6G8NDKgXb"
      }
    },
    {
      "cell_type": "code",
      "source": [
        "# Example\n",
        "\n",
        "age = 12\n",
        "Age = 13\n",
        "AGE = 14"
      ],
      "metadata": {
        "id": "kn_oP_lqKq9z"
      },
      "execution_count": 6,
      "outputs": []
    },
    {
      "cell_type": "markdown",
      "source": [
        "The best practice in Python is to used lower case."
      ],
      "metadata": {
        "id": "iVZgcFJNLOJs"
      }
    },
    {
      "cell_type": "markdown",
      "source": [
        "* Composite names"
      ],
      "metadata": {
        "id": "UoFNmCZnLfok"
      }
    },
    {
      "cell_type": "code",
      "source": [
        "# Example\n",
        "book_price = 100\n",
        "book_quant = 20"
      ],
      "metadata": {
        "id": "91ujFXppLiOM"
      },
      "execution_count": null,
      "outputs": []
    },
    {
      "cell_type": "markdown",
      "source": [
        "* Use meaingful names\n",
        "\n",
        "Names should tell you something"
      ],
      "metadata": {
        "id": "sTyM_p_oMAEi"
      }
    },
    {
      "cell_type": "code",
      "source": [
        "stock_price = 25"
      ],
      "metadata": {
        "id": "TDRDmikcMIby"
      },
      "execution_count": null,
      "outputs": []
    },
    {
      "cell_type": "markdown",
      "source": [
        "# 5. Data types"
      ],
      "metadata": {
        "id": "VdHdX_cpMhX7"
      }
    },
    {
      "cell_type": "markdown",
      "source": [
        "## 5.1. Integers"
      ],
      "metadata": {
        "id": "15S5Zq_TMnjj"
      }
    },
    {
      "cell_type": "code",
      "source": [
        "stock_price = 25\n",
        "print(type(stock_price))"
      ],
      "metadata": {
        "colab": {
          "base_uri": "https://localhost:8080/"
        },
        "id": "KYJCbGyoMsLz",
        "outputId": "b1fda70a-fcf6-4eb9-a6c6-76bac3e3ecd0"
      },
      "execution_count": 10,
      "outputs": [
        {
          "output_type": "stream",
          "name": "stdout",
          "text": [
            "<class 'int'>\n"
          ]
        }
      ]
    },
    {
      "cell_type": "markdown",
      "source": [
        "## 5.2. Float"
      ],
      "metadata": {
        "id": "Pm8lsarfM0BE"
      }
    },
    {
      "cell_type": "code",
      "source": [
        "stock_price = 25.45\n",
        "print(type(stock_price))"
      ],
      "metadata": {
        "colab": {
          "base_uri": "https://localhost:8080/"
        },
        "id": "TE0MN19mM24q",
        "outputId": "69b4fe65-8a36-4f7d-dad2-d1fa1382498c"
      },
      "execution_count": 11,
      "outputs": [
        {
          "output_type": "stream",
          "name": "stdout",
          "text": [
            "<class 'float'>\n"
          ]
        }
      ]
    },
    {
      "cell_type": "markdown",
      "source": [
        "## Python as a Calculator"
      ],
      "metadata": {
        "id": "ByzcS0P-NAMa"
      }
    },
    {
      "cell_type": "code",
      "source": [
        "# Example\n",
        "\n",
        "x = 3\n",
        "y = 4\n",
        "z = 5\n",
        "print('x + y = ', x + y)\n",
        "print('x * z = ', x + z)"
      ],
      "metadata": {
        "colab": {
          "base_uri": "https://localhost:8080/"
        },
        "id": "l_TSrKQENTfb",
        "outputId": "54cc7195-11ba-45b5-f96e-4b098e5c7910"
      },
      "execution_count": 14,
      "outputs": [
        {
          "output_type": "stream",
          "name": "stdout",
          "text": [
            "x + y =  7\n",
            "x * z =  8\n"
          ]
        }
      ]
    },
    {
      "cell_type": "markdown",
      "source": [
        "Let's try a **nice trick**"
      ],
      "metadata": {
        "id": "p7pCkY_zN2Zy"
      }
    },
    {
      "cell_type": "code",
      "source": [
        "# Nice Trick\n",
        "w = 0"
      ],
      "metadata": {
        "id": "xqTn-M9iN656"
      },
      "execution_count": 23,
      "outputs": []
    },
    {
      "cell_type": "code",
      "source": [
        "# Nice Trick\n",
        "w += 2\n",
        "print(w)"
      ],
      "metadata": {
        "colab": {
          "base_uri": "https://localhost:8080/"
        },
        "id": "-fivTBbxOG55",
        "outputId": "cca86cf3-a9cc-4898-ec31-cb421e536770"
      },
      "execution_count": 29,
      "outputs": [
        {
          "output_type": "stream",
          "name": "stdout",
          "text": [
            "12\n"
          ]
        }
      ]
    },
    {
      "cell_type": "markdown",
      "source": [
        "## 5.3. Booleans\n",
        "\n",
        "These are variables with values of `True` or `False`."
      ],
      "metadata": {
        "id": "RuaRvqqZPAuK"
      }
    },
    {
      "cell_type": "code",
      "source": [
        "# Example\n",
        "\n",
        "is_sunny = True\n",
        "print(type(is_sunny))"
      ],
      "metadata": {
        "colab": {
          "base_uri": "https://localhost:8080/"
        },
        "id": "hjfm0670PUFT",
        "outputId": "73523a81-20c8-4a3e-a536-e556f050fa5b"
      },
      "execution_count": 30,
      "outputs": [
        {
          "output_type": "stream",
          "name": "stdout",
          "text": [
            "<class 'bool'>\n"
          ]
        }
      ]
    },
    {
      "cell_type": "markdown",
      "source": [
        "More important are **BOOLEAN EXPRESSIONS**."
      ],
      "metadata": {
        "id": "Ub01WdvZP7pp"
      }
    },
    {
      "cell_type": "code",
      "source": [
        "# Example\n",
        "\n",
        "x = 2\n",
        "y = 3\n",
        "\n",
        "print('is x equals to y?', x == y)\n",
        "print('is x NOT equal to y?', x != y)\n",
        "print('is x greater than y?', x > y)\n",
        "print('is x less than y?', x < y)"
      ],
      "metadata": {
        "colab": {
          "base_uri": "https://localhost:8080/"
        },
        "id": "QqzIUyWeQDmO",
        "outputId": "0bd52e6a-86e1-4110-8e8b-4dfe954ff352"
      },
      "execution_count": 31,
      "outputs": [
        {
          "output_type": "stream",
          "name": "stdout",
          "text": [
            "is x equals to y? False\n",
            "is x NOT equal to y? True\n",
            "is x greater than y? False\n",
            "is x less than y? True\n"
          ]
        }
      ]
    },
    {
      "cell_type": "code",
      "source": [
        "# Practice - hard mode!!!\n",
        "\n",
        "# Using loops, you are going to evalaute the b_e\n",
        "# x+y > x*y\n",
        "# For x = 1,2,3,...,10\n",
        "#     y = 11,12,13,...,20"
      ],
      "metadata": {
        "id": "gGBy7nlLRZck"
      },
      "execution_count": null,
      "outputs": []
    },
    {
      "cell_type": "code",
      "source": [
        "# A Solution\n",
        "\n",
        "print('Is x + y > x * y?')\n",
        "for x in range(1,11):\n",
        "  for y in range(11,21):\n",
        "    print('Is ', x ,'+', y, '>', x,'*', y, '?', x + y > x * y)\n"
      ],
      "metadata": {
        "id": "EZoJUoLVVOOn"
      },
      "execution_count": null,
      "outputs": []
    },
    {
      "cell_type": "code",
      "source": [
        "# Practice\n",
        "# Multiplication - A solutions\n",
        "\n",
        "for x in range(1,9):\n",
        "  print('Table of', x, ':')\n",
        "  for y in range(1,9):\n",
        "    print(x, '*', y, '= ', x*y)\n"
      ],
      "metadata": {
        "colab": {
          "base_uri": "https://localhost:8080/"
        },
        "id": "GOXRdQW4aTvP",
        "outputId": "2325a758-4b30-425d-e65b-72bbd0bca91e"
      },
      "execution_count": 36,
      "outputs": [
        {
          "output_type": "stream",
          "name": "stdout",
          "text": [
            "Table of 1 :\n",
            "1 * 1 =  1\n",
            "1 * 2 =  2\n",
            "1 * 3 =  3\n",
            "1 * 4 =  4\n",
            "1 * 5 =  5\n",
            "1 * 6 =  6\n",
            "1 * 7 =  7\n",
            "1 * 8 =  8\n",
            "Table of 2 :\n",
            "2 * 1 =  2\n",
            "2 * 2 =  4\n",
            "2 * 3 =  6\n",
            "2 * 4 =  8\n",
            "2 * 5 =  10\n",
            "2 * 6 =  12\n",
            "2 * 7 =  14\n",
            "2 * 8 =  16\n",
            "Table of 3 :\n",
            "3 * 1 =  3\n",
            "3 * 2 =  6\n",
            "3 * 3 =  9\n",
            "3 * 4 =  12\n",
            "3 * 5 =  15\n",
            "3 * 6 =  18\n",
            "3 * 7 =  21\n",
            "3 * 8 =  24\n",
            "Table of 4 :\n",
            "4 * 1 =  4\n",
            "4 * 2 =  8\n",
            "4 * 3 =  12\n",
            "4 * 4 =  16\n",
            "4 * 5 =  20\n",
            "4 * 6 =  24\n",
            "4 * 7 =  28\n",
            "4 * 8 =  32\n",
            "Table of 5 :\n",
            "5 * 1 =  5\n",
            "5 * 2 =  10\n",
            "5 * 3 =  15\n",
            "5 * 4 =  20\n",
            "5 * 5 =  25\n",
            "5 * 6 =  30\n",
            "5 * 7 =  35\n",
            "5 * 8 =  40\n",
            "Table of 6 :\n",
            "6 * 1 =  6\n",
            "6 * 2 =  12\n",
            "6 * 3 =  18\n",
            "6 * 4 =  24\n",
            "6 * 5 =  30\n",
            "6 * 6 =  36\n",
            "6 * 7 =  42\n",
            "6 * 8 =  48\n",
            "Table of 7 :\n",
            "7 * 1 =  7\n",
            "7 * 2 =  14\n",
            "7 * 3 =  21\n",
            "7 * 4 =  28\n",
            "7 * 5 =  35\n",
            "7 * 6 =  42\n",
            "7 * 7 =  49\n",
            "7 * 8 =  56\n",
            "Table of 8 :\n",
            "8 * 1 =  8\n",
            "8 * 2 =  16\n",
            "8 * 3 =  24\n",
            "8 * 4 =  32\n",
            "8 * 5 =  40\n",
            "8 * 6 =  48\n",
            "8 * 7 =  56\n",
            "8 * 8 =  64\n"
          ]
        }
      ]
    }
  ]
}